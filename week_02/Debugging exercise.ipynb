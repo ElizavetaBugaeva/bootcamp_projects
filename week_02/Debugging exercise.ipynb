{
 "cells": [
  {
   "cell_type": "code",
   "execution_count": 1,
   "id": "0899b04a",
   "metadata": {},
   "outputs": [],
   "source": [
    "import json\n",
    "\n",
    "def is_answer(node):\n",
    "    #return len(node) == 1\n",
    "    return \"answer\" in node\n",
    "f = open('questions.json') #typo in the name\n",
    "\n",
    "content = f.read() #add ()\n",
    "node = json.loads(content) #reads to loads\n",
    "finished = False"
   ]
  },
  {
   "cell_type": "code",
   "execution_count": 2,
   "id": "6d693ae9",
   "metadata": {},
   "outputs": [
    {
     "name": "stdout",
     "output_type": "stream",
     "text": [
      "Can it fly?\n",
      "no\n",
      "Does it have feathers?\n",
      "no\n",
      "Does it sometimes live in water?\n",
      "yes\n",
      "Does it eat fish?\n",
      "no\n",
      "Does it have long legs?\n",
      "no\n",
      "Is it pink?\n",
      "no\n",
      "Does it look weird to humans?\n",
      "no\n",
      "Does it sometimes stand on one leg?\n",
      "no\n",
      "It's not pink or stands on one leg is it?\n",
      "no\n",
      "Is it some kind of jelly fish?\n",
      "no\n",
      "Does it have legs?\n",
      "no\n",
      "Is it not real?\n",
      "yes\n",
      "Are you going to keep hitting yes?\n",
      "no\n",
      "Does it have stripes?\n",
      "no\n",
      "Is it white?\n",
      "no\n",
      "Is it a male?\n",
      "yes\n",
      "Is it yellow?\n",
      "yes\n",
      "Is it related to the cat family?\n",
      "no\n",
      "Can it be all animals?\n",
      "no\n",
      "Are you going to click yes for the last question?\n",
      "no\n",
      "Are you going to answer \"no\" for this question?\n",
      "yes\n",
      "Can it do everything?\n",
      "no\n",
      "God\n",
      "no\n"
     ]
    },
    {
     "ename": "KeyError",
     "evalue": "'yes'",
     "output_type": "error",
     "traceback": [
      "\u001b[0;31m---------------------------------------------------------------------------\u001b[0m",
      "\u001b[0;31mKeyError\u001b[0m                                  Traceback (most recent call last)",
      "Cell \u001b[0;32mIn[2], line 11\u001b[0m\n\u001b[1;32m      9\u001b[0m     node \u001b[38;5;241m=\u001b[39m node[\u001b[38;5;124m'\u001b[39m\u001b[38;5;124mno\u001b[39m\u001b[38;5;124m'\u001b[39m]\n\u001b[1;32m     10\u001b[0m \u001b[38;5;28;01melse\u001b[39;00m:\n\u001b[0;32m---> 11\u001b[0m     node \u001b[38;5;241m=\u001b[39m \u001b[43mnode\u001b[49m\u001b[43m[\u001b[49m\u001b[38;5;124;43m'\u001b[39;49m\u001b[38;5;124;43myes\u001b[39;49m\u001b[38;5;124;43m'\u001b[39;49m\u001b[43m]\u001b[49m\n",
      "\u001b[0;31mKeyError\u001b[0m: 'yes'"
     ]
    }
   ],
   "source": [
    "while not finished: #add missing :\n",
    "    print(node['text']) #add missing )\n",
    "    \n",
    "    if is_answer(node): #move else if inside while loop\n",
    "        finished = True\n",
    "    else:\n",
    "        answer = input() #remove =\n",
    "        if answer.upper() in ['yes', 'y']:\n",
    "            node = node['no']\n",
    "        else:\n",
    "            node = node['yes']"
   ]
  },
  {
   "cell_type": "raw",
   "id": "65493253",
   "metadata": {
    "scrolled": true
   },
   "source": [
    "import json\n",
    "\n",
    "def is_answer(node):\n",
    "    return len(node) == 1\n",
    "\n",
    "f = open('quetions.json')\n",
    "content = f.read\n",
    "node = json.reads(content)\n",
    "\n",
    "finished = False\n",
    "\n",
    "while not finished\n",
    "    print(node['text']\n",
    "\n",
    "if is_answer_node(node):\n",
    "    finished = True\n",
    "else:\n",
    "    answer == input()\n",
    "    if answer.upper() in ['yes', 'y']:\n",
    "        node = node['no']\n",
    "    else:\n",
    "        node = node['yes']"
   ]
  },
  {
   "cell_type": "code",
   "execution_count": null,
   "id": "d90f4e28",
   "metadata": {},
   "outputs": [],
   "source": []
  }
 ],
 "metadata": {
  "kernelspec": {
   "display_name": "Python 3 (ipykernel)",
   "language": "python",
   "name": "python3"
  },
  "language_info": {
   "codemirror_mode": {
    "name": "ipython",
    "version": 3
   },
   "file_extension": ".py",
   "mimetype": "text/x-python",
   "name": "python",
   "nbconvert_exporter": "python",
   "pygments_lexer": "ipython3",
   "version": "3.10.9"
  }
 },
 "nbformat": 4,
 "nbformat_minor": 5
}
