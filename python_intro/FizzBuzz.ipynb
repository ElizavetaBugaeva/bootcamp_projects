{
 "cells": [
  {
   "cell_type": "code",
   "execution_count": null,
   "id": "5a21cad6",
   "metadata": {},
   "outputs": [],
   "source": [
    "def my_function(i):\n",
    "    for i in range (100):\n",
    "        if (i % 3) == 0 and (i % 5) == 0:\n",
    "            print (\"FizzBuzz\")\n",
    "        elif (i% 3) == 0 and (i % 5) != 0:\n",
    "            print(\"Fizz\")\n",
    "        elif (i % 5) == 0 and (i% 3) !=0:\n",
    "            print(\"Buzz\")\n",
    "        else:\n",
    "            print(i)\n",
    "my_function(100)"
   ]
  }
 ],
 "metadata": {
  "kernelspec": {
   "display_name": "Python 3 (ipykernel)",
   "language": "python",
   "name": "python3"
  },
  "language_info": {
   "codemirror_mode": {
    "name": "ipython",
    "version": 3
   },
   "file_extension": ".py",
   "mimetype": "text/x-python",
   "name": "python",
   "nbconvert_exporter": "python",
   "pygments_lexer": "ipython3",
   "version": "3.10.9"
  }
 },
 "nbformat": 4,
 "nbformat_minor": 5
}
