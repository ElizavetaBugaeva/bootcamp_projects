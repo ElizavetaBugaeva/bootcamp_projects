{
 "cells": [
  {
   "cell_type": "markdown",
   "id": "e4c743de",
   "metadata": {},
   "source": [
    "# Exercise: Descriptive Statistics"
   ]
  },
  {
   "cell_type": "markdown",
   "id": "057dfac6",
   "metadata": {},
   "source": [
    "### Solve the following with `pandas` one-liners"
   ]
  },
  {
   "cell_type": "markdown",
   "id": "4605bb53",
   "metadata": {},
   "source": [
    "**1. read `gapminder_lifeexpectancy.xlsx`**"
   ]
  },
  {
   "cell_type": "code",
   "execution_count": 14,
   "id": "f31dd190",
   "metadata": {},
   "outputs": [],
   "source": [
    "import pandas as pd\n",
    "life = pd.read_excel('data/gapminder_lifeexpectancy.xlsx', index_col=0)\n",
    "#fert = pd.read_csv('data/gapminder_total_fertility.csv', index_col=0)\n",
    "#popu = pd.read_excel('data/gapminder_population.xlsx', index_col = 0)"
   ]
  },
  {
   "cell_type": "markdown",
   "id": "666ff9e2",
   "metadata": {},
   "source": [
    "**2. show the first 3 rows**"
   ]
  },
  {
   "cell_type": "code",
   "execution_count": 15,
   "id": "22ab9efa",
   "metadata": {},
   "outputs": [
    {
     "data": {
      "text/html": [
       "<div>\n",
       "<style scoped>\n",
       "    .dataframe tbody tr th:only-of-type {\n",
       "        vertical-align: middle;\n",
       "    }\n",
       "\n",
       "    .dataframe tbody tr th {\n",
       "        vertical-align: top;\n",
       "    }\n",
       "\n",
       "    .dataframe thead th {\n",
       "        text-align: right;\n",
       "    }\n",
       "</style>\n",
       "<table border=\"1\" class=\"dataframe\">\n",
       "  <thead>\n",
       "    <tr style=\"text-align: right;\">\n",
       "      <th></th>\n",
       "      <th>1800</th>\n",
       "      <th>1801</th>\n",
       "      <th>1802</th>\n",
       "      <th>1803</th>\n",
       "      <th>1804</th>\n",
       "      <th>1805</th>\n",
       "      <th>1806</th>\n",
       "      <th>1807</th>\n",
       "      <th>1808</th>\n",
       "      <th>1809</th>\n",
       "      <th>...</th>\n",
       "      <th>2007</th>\n",
       "      <th>2008</th>\n",
       "      <th>2009</th>\n",
       "      <th>2010</th>\n",
       "      <th>2011</th>\n",
       "      <th>2012</th>\n",
       "      <th>2013</th>\n",
       "      <th>2014</th>\n",
       "      <th>2015</th>\n",
       "      <th>2016</th>\n",
       "    </tr>\n",
       "    <tr>\n",
       "      <th>Life expectancy</th>\n",
       "      <th></th>\n",
       "      <th></th>\n",
       "      <th></th>\n",
       "      <th></th>\n",
       "      <th></th>\n",
       "      <th></th>\n",
       "      <th></th>\n",
       "      <th></th>\n",
       "      <th></th>\n",
       "      <th></th>\n",
       "      <th></th>\n",
       "      <th></th>\n",
       "      <th></th>\n",
       "      <th></th>\n",
       "      <th></th>\n",
       "      <th></th>\n",
       "      <th></th>\n",
       "      <th></th>\n",
       "      <th></th>\n",
       "      <th></th>\n",
       "      <th></th>\n",
       "    </tr>\n",
       "  </thead>\n",
       "  <tbody>\n",
       "    <tr>\n",
       "      <th>Abkhazia</th>\n",
       "      <td>NaN</td>\n",
       "      <td>NaN</td>\n",
       "      <td>NaN</td>\n",
       "      <td>NaN</td>\n",
       "      <td>NaN</td>\n",
       "      <td>NaN</td>\n",
       "      <td>NaN</td>\n",
       "      <td>NaN</td>\n",
       "      <td>NaN</td>\n",
       "      <td>NaN</td>\n",
       "      <td>...</td>\n",
       "      <td>NaN</td>\n",
       "      <td>NaN</td>\n",
       "      <td>NaN</td>\n",
       "      <td>NaN</td>\n",
       "      <td>NaN</td>\n",
       "      <td>NaN</td>\n",
       "      <td>NaN</td>\n",
       "      <td>NaN</td>\n",
       "      <td>NaN</td>\n",
       "      <td>NaN</td>\n",
       "    </tr>\n",
       "    <tr>\n",
       "      <th>Afghanistan</th>\n",
       "      <td>28.21</td>\n",
       "      <td>28.2</td>\n",
       "      <td>28.19</td>\n",
       "      <td>28.18</td>\n",
       "      <td>28.17</td>\n",
       "      <td>28.16</td>\n",
       "      <td>28.15</td>\n",
       "      <td>28.14</td>\n",
       "      <td>28.13</td>\n",
       "      <td>28.12</td>\n",
       "      <td>...</td>\n",
       "      <td>52.4</td>\n",
       "      <td>52.8</td>\n",
       "      <td>53.3</td>\n",
       "      <td>53.6</td>\n",
       "      <td>54.0</td>\n",
       "      <td>54.4</td>\n",
       "      <td>54.8</td>\n",
       "      <td>54.9</td>\n",
       "      <td>53.8</td>\n",
       "      <td>52.72</td>\n",
       "    </tr>\n",
       "    <tr>\n",
       "      <th>Akrotiri and Dhekelia</th>\n",
       "      <td>NaN</td>\n",
       "      <td>NaN</td>\n",
       "      <td>NaN</td>\n",
       "      <td>NaN</td>\n",
       "      <td>NaN</td>\n",
       "      <td>NaN</td>\n",
       "      <td>NaN</td>\n",
       "      <td>NaN</td>\n",
       "      <td>NaN</td>\n",
       "      <td>NaN</td>\n",
       "      <td>...</td>\n",
       "      <td>NaN</td>\n",
       "      <td>NaN</td>\n",
       "      <td>NaN</td>\n",
       "      <td>NaN</td>\n",
       "      <td>NaN</td>\n",
       "      <td>NaN</td>\n",
       "      <td>NaN</td>\n",
       "      <td>NaN</td>\n",
       "      <td>NaN</td>\n",
       "      <td>NaN</td>\n",
       "    </tr>\n",
       "  </tbody>\n",
       "</table>\n",
       "<p>3 rows × 217 columns</p>\n",
       "</div>"
      ],
      "text/plain": [
       "                        1800  1801   1802   1803   1804   1805   1806   1807  \\\n",
       "Life expectancy                                                                \n",
       "Abkhazia                 NaN   NaN    NaN    NaN    NaN    NaN    NaN    NaN   \n",
       "Afghanistan            28.21  28.2  28.19  28.18  28.17  28.16  28.15  28.14   \n",
       "Akrotiri and Dhekelia    NaN   NaN    NaN    NaN    NaN    NaN    NaN    NaN   \n",
       "\n",
       "                        1808   1809  ...  2007  2008  2009  2010  2011  2012  \\\n",
       "Life expectancy                      ...                                       \n",
       "Abkhazia                 NaN    NaN  ...   NaN   NaN   NaN   NaN   NaN   NaN   \n",
       "Afghanistan            28.13  28.12  ...  52.4  52.8  53.3  53.6  54.0  54.4   \n",
       "Akrotiri and Dhekelia    NaN    NaN  ...   NaN   NaN   NaN   NaN   NaN   NaN   \n",
       "\n",
       "                       2013  2014  2015   2016  \n",
       "Life expectancy                                 \n",
       "Abkhazia                NaN   NaN   NaN    NaN  \n",
       "Afghanistan            54.8  54.9  53.8  52.72  \n",
       "Akrotiri and Dhekelia   NaN   NaN   NaN    NaN  \n",
       "\n",
       "[3 rows x 217 columns]"
      ]
     },
     "execution_count": 15,
     "metadata": {},
     "output_type": "execute_result"
    }
   ],
   "source": [
    "life.head(3)"
   ]
  },
  {
   "cell_type": "markdown",
   "id": "6cb3c069",
   "metadata": {},
   "source": [
    "**3. filter out all years but 1960 and missing values**"
   ]
  },
  {
   "cell_type": "code",
   "execution_count": 16,
   "id": "462e5732",
   "metadata": {},
   "outputs": [],
   "source": [
    "life = life[1960].dropna()\n"
   ]
  },
  {
   "cell_type": "markdown",
   "id": "6d22fa1e",
   "metadata": {},
   "source": [
    "**4. calculate the mean life expectancy**"
   ]
  },
  {
   "cell_type": "code",
   "execution_count": 4,
   "id": "880a8a60",
   "metadata": {},
   "outputs": [
    {
     "data": {
      "text/plain": [
       "54.73282178217821"
      ]
     },
     "execution_count": 4,
     "metadata": {},
     "output_type": "execute_result"
    }
   ],
   "source": [
    "life.mean()"
   ]
  },
  {
   "cell_type": "markdown",
   "id": "f61b4e5f",
   "metadata": {},
   "source": [
    "**5. calculate the median**"
   ]
  },
  {
   "cell_type": "code",
   "execution_count": 5,
   "id": "3978ce96",
   "metadata": {},
   "outputs": [
    {
     "data": {
      "text/plain": [
       "56.185"
      ]
     },
     "execution_count": 5,
     "metadata": {},
     "output_type": "execute_result"
    }
   ],
   "source": [
    "life.median()"
   ]
  },
  {
   "cell_type": "markdown",
   "id": "cab8ab89",
   "metadata": {},
   "source": [
    "**6. calculate the standard deviation**"
   ]
  },
  {
   "cell_type": "code",
   "execution_count": 6,
   "id": "df080e6e",
   "metadata": {},
   "outputs": [
    {
     "data": {
      "text/plain": [
       "11.689637178760742"
      ]
     },
     "execution_count": 6,
     "metadata": {},
     "output_type": "execute_result"
    }
   ],
   "source": [
    "life.std()"
   ]
  },
  {
   "cell_type": "markdown",
   "id": "403ebc95",
   "metadata": {},
   "source": [
    "**7. calculate the variance**"
   ]
  },
  {
   "cell_type": "code",
   "execution_count": 7,
   "id": "03c2da8d",
   "metadata": {},
   "outputs": [
    {
     "data": {
      "text/plain": [
       "136.64761737106542"
      ]
     },
     "execution_count": 7,
     "metadata": {},
     "output_type": "execute_result"
    }
   ],
   "source": [
    "life.var()"
   ]
  },
  {
   "cell_type": "markdown",
   "id": "a999c6bc",
   "metadata": {},
   "source": [
    "**8. find the highest life expectancy**"
   ]
  },
  {
   "cell_type": "code",
   "execution_count": 8,
   "id": "1f3876d5",
   "metadata": {},
   "outputs": [
    {
     "data": {
      "text/plain": [
       "74.22"
      ]
     },
     "execution_count": 8,
     "metadata": {},
     "output_type": "execute_result"
    }
   ],
   "source": [
    "life.max()"
   ]
  },
  {
   "cell_type": "markdown",
   "id": "ad722c44",
   "metadata": {},
   "source": [
    "**9. find the lowest life expectancy**"
   ]
  },
  {
   "cell_type": "code",
   "execution_count": 9,
   "id": "219e17f8",
   "metadata": {},
   "outputs": [
    {
     "data": {
      "text/plain": [
       "29.61"
      ]
     },
     "execution_count": 9,
     "metadata": {},
     "output_type": "execute_result"
    }
   ],
   "source": [
    "life.min()"
   ]
  },
  {
   "cell_type": "markdown",
   "id": "8d214cdc",
   "metadata": {},
   "source": [
    "**10. find the 90% quantile**"
   ]
  },
  {
   "cell_type": "code",
   "execution_count": 17,
   "id": "8494814b",
   "metadata": {},
   "outputs": [
    {
     "data": {
      "text/plain": [
       "69.707"
      ]
     },
     "execution_count": 17,
     "metadata": {},
     "output_type": "execute_result"
    }
   ],
   "source": [
    "life.quantile(0.9)"
   ]
  },
  {
   "cell_type": "markdown",
   "id": "7b137e01",
   "metadata": {},
   "source": [
    "**11. store the number of data points in a variable**"
   ]
  },
  {
   "cell_type": "code",
   "execution_count": 25,
   "id": "d6bfa24d",
   "metadata": {},
   "outputs": [],
   "source": [
    "num_dp = life.value_counts()"
   ]
  },
  {
   "cell_type": "markdown",
   "id": "c9497239",
   "metadata": {},
   "source": [
    "**12. calculate min, max, mean and range (and possibly other descriptors) with a single line**"
   ]
  },
  {
   "cell_type": "code",
   "execution_count": null,
   "id": "6c98229d",
   "metadata": {},
   "outputs": [],
   "source": [
    "life.describe()"
   ]
  }
 ],
 "metadata": {
  "kernelspec": {
   "display_name": "Python 3 (ipykernel)",
   "language": "python",
   "name": "python3"
  },
  "language_info": {
   "codemirror_mode": {
    "name": "ipython",
    "version": 3
   },
   "file_extension": ".py",
   "mimetype": "text/x-python",
   "name": "python",
   "nbconvert_exporter": "python",
   "pygments_lexer": "ipython3",
   "version": "3.10.9"
  }
 },
 "nbformat": 4,
 "nbformat_minor": 5
}
